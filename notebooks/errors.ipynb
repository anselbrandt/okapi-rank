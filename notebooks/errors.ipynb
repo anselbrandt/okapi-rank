{
 "cells": [
  {
   "cell_type": "code",
   "execution_count": 2,
   "metadata": {},
   "outputs": [
    {
     "name": "stdout",
     "output_type": "stream",
     "text": [
      "\n",
      " 2 errors \n",
      "\n",
      "شاهنامه خودمونی \n",
      " history \n",
      " https://podcasts.apple.com/ca/podcast/%D8%B4%D8%A7%D9%87%D9%86%D8%A7%D9%85%D9%87-%D8%AE%D9%88%D8%AF%D9%85%D9%88%D9%86%DB%8C/id1546968391 \n",
      "\n",
      "Nocturnal \n",
      " music \n",
      " https://podcasts.apple.com/ie/podcast/nocturnal/id254860830 \n",
      "\n"
     ]
    }
   ],
   "source": [
    "import sqlite3\n",
    "\n",
    "conn = sqlite3.connect(\"../data/podcasts.db\")\n",
    "cursor = conn.cursor()\n",
    "\n",
    "query = \"\"\"\n",
    "    SELECT podcast.name, podcast.category, podcast.url\n",
    "    FROM download\n",
    "    JOIN podcast ON download.id = podcast.id\n",
    "    WHERE download.status = 'error';\n",
    "\"\"\"\n",
    "\n",
    "cursor.execute(query)\n",
    "results = cursor.fetchall()\n",
    "\n",
    "print(\"\\n\", len(results), \"errors\", \"\\n\")\n",
    "\n",
    "for name, category, url in results:\n",
    "    print(name, \"\\n\", category, \"\\n\", url, \"\\n\")\n",
    "\n",
    "conn.close()"
   ]
  }
 ],
 "metadata": {
  "kernelspec": {
   "display_name": ".venv",
   "language": "python",
   "name": "python3"
  },
  "language_info": {
   "codemirror_mode": {
    "name": "ipython",
    "version": 3
   },
   "file_extension": ".py",
   "mimetype": "text/x-python",
   "name": "python",
   "nbconvert_exporter": "python",
   "pygments_lexer": "ipython3",
   "version": "3.12.8"
  }
 },
 "nbformat": 4,
 "nbformat_minor": 2
}
