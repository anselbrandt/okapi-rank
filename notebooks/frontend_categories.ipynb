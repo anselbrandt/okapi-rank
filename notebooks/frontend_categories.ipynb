{
 "cells": [
  {
   "cell_type": "code",
   "execution_count": 5,
   "metadata": {},
   "outputs": [],
   "source": [
    "import json\n",
    "import sqlite3\n",
    "import sys\n",
    "import os\n",
    "\n",
    "parent_dir = os.path.abspath(os.path.join(os.getcwd(), \"..\"))\n",
    "if parent_dir not in sys.path:\n",
    "    sys.path.append(parent_dir)\n",
    "\n",
    "from categories import CATEGORY_MAPPINGS\n",
    "\n",
    "categories = CATEGORY_MAPPINGS\n",
    "\n",
    "conn = sqlite3.connect(\"../data/podcasts.db\")\n",
    "cursor = conn.cursor()\n",
    "\n",
    "subcategory_counts = {}\n",
    "\n",
    "\n",
    "def collect_subcategories(section):\n",
    "    \"\"\"Recursively collect all subcategories in a section.\"\"\"\n",
    "    if \"subcategories\" in section:\n",
    "        for subcat_key, subcat_value in section[\"subcategories\"].items():\n",
    "            yield subcat_key, subcat_value\n",
    "\n",
    "\n",
    "for top_level_key, top_level_value in categories.items():\n",
    "    if \"subcategories\" in top_level_value:\n",
    "        for subcat_key, subcat_value in collect_subcategories(top_level_value):\n",
    "            match_categories = subcat_value.get(\"match_categories\", [])\n",
    "            total = 0\n",
    "\n",
    "            for cat, subcat in match_categories:\n",
    "                cursor.execute(\n",
    "                    \"\"\"\n",
    "                    SELECT COUNT(*)\n",
    "                    FROM episode\n",
    "                    JOIN podcast ON episode.podcast_id = podcast.id\n",
    "                    WHERE podcast.category = ? AND podcast.subcategory = ?\n",
    "                    \"\"\",\n",
    "                    (cat, subcat),\n",
    "                )\n",
    "                count = cursor.fetchone()[0]\n",
    "                total += count\n",
    "\n",
    "            subcategory_counts[subcat_key] = total\n",
    "sorted_data = dict(sorted(subcategory_counts.items(), key=lambda item: item[1]))\n",
    "with open(\"../working/frontend_subcategory_counts.json\", \"w\") as f:\n",
    "    json.dump(sorted_data, f)\n",
    "\n",
    "conn.close()"
   ]
  }
 ],
 "metadata": {
  "kernelspec": {
   "display_name": ".venv",
   "language": "python",
   "name": "python3"
  },
  "language_info": {
   "codemirror_mode": {
    "name": "ipython",
    "version": 3
   },
   "file_extension": ".py",
   "mimetype": "text/x-python",
   "name": "python",
   "nbconvert_exporter": "python",
   "pygments_lexer": "ipython3",
   "version": "3.12.8"
  }
 },
 "nbformat": 4,
 "nbformat_minor": 2
}
