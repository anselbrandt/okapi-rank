{
 "cells": [
  {
   "cell_type": "code",
   "execution_count": 2,
   "metadata": {},
   "outputs": [
    {
     "name": "stdout",
     "output_type": "stream",
     "text": [
      "\n",
      "🔍 Results for: 'Chris Hedges'\n",
      "\n",
      "- The Chris Hedges Report\n",
      "  Summary: The narratives surrounding Israel and their genocidal campaign against the Palestinians took decades to create and embed into the West’s psyche. The Holocaust, decades after its end, became a central part of the Jewish and Israeli identity. Enemies of the Israeli state were conflated with Nazis. The physical location of Israel became essential to Christian evangelicals who believe the second coming of Jesus Christ was to take place there.   The late Amy Kaplan, in her book, Our American Israel: The Story of an Entangled Alliance, explored how these narratives developed through popular culture and the media’s reporting on the Israeli government’s actions throughout the 20th century, particularly in the United States. Professor Joan Scott, professor emerita in the School of Social Science at the Institute for Advanced Study at Princeton and adjunct professor of history at the Graduate Center of the City University of New York, joins host Chris Hedges on this episode of The Chris Hedges Report to discuss Kaplan’s book and how prevalent it is in the face of Israel’s genocide of the Palestinians.   “Part of the invincible victim story is that Jews have to always be alert about defending themselves against any sign that the Holocaust is about to reappear and then attribute it to Palestinians, the possibility that they will bring another Holocaust,” Scott says. “So the whole defense industry of Israel, the whole occupation of Gaza and the West Bank become a way of arguing against the possibility of another Holocaust.”   When it comes to Christian Zionism, Scott explains that cynicism in the Israeli government tolerates the antisemites within these groups “because they're bringing a large sector of the American population, a powerfully politically influential sector of the American population, certainly now with Trump, to support the activities that Israel is engaging in.”\n",
      "\n",
      "- The Chris Hedges Report\n",
      "  Summary: In a world gripped by daily catastrophes, there is one that affects all but lacks the attention it deserves. The climate crisis — pervaded by ecological collapse, war, endless resource accumulation fueled by capitalism — is the issue of our time. The warning signs are there but as author Eiren Caffall tells host Chris Hedges, people are not able to handle the facts regarding the “fragility of our ecosystem, and [they] just don't really have a great way of managing the emotional impact of that.”   Caffall joins Hedges on this episode of The Chris Hedges Report to discuss her novel, All the Water in the World, and her memoir, The Mourner’s Bestiary. She explains that climate talk is often a tough pill to swallow because it deals with ideas of impermanence: “I think we are struggling to talk about our climate grief, our experience with the eco-collapse as a collective, as a planet who are all confronted with the evidence of our mortality.”   As someone who has dealt with loss and trauma her whole life as a result of inheriting polycystic kidney disease, a genetic illness that has plagued her family for over 150 years, Caffall employs a unique perspective when it comes to preserving her family’s stories and art.   “That sense of it is vital to protect whatever stories we can in the face of great loss is kind of baked into my background, my childhood, my understanding of my role as an adult to tell the stories of the dead, to hold on to the culture of those folks, to make sure that there's a continuance,” she tells Hedges.   Caffall understands the need for stories like hers to create the empathy that is lacking in a world that continually sees violence as an answer to problems. “I just think actually it's that vulnerability and that presence that's the real tool that we need to be able to move carefully through the world that we're being confronted with at this moment and in a possible bleaker future.”\n",
      "\n"
     ]
    }
   ],
   "source": [
    "import sqlite3\n",
    "\n",
    "\n",
    "def search_episodes(term):\n",
    "    conn = sqlite3.connect(\"../data/podcasts.db\")\n",
    "    conn.row_factory = sqlite3.Row\n",
    "    cursor = conn.cursor()\n",
    "\n",
    "    conn.commit()\n",
    "\n",
    "    query = \"\"\"\n",
    "    SELECT episode.*\n",
    "    FROM episode_fts\n",
    "    JOIN episode ON episode_fts.rowid = episode.id\n",
    "    WHERE episode_fts MATCH ?;\n",
    "    \"\"\"\n",
    "    cursor.execute(query, (term,))\n",
    "    results = cursor.fetchall()\n",
    "    conn.close()\n",
    "    return results\n",
    "\n",
    "\n",
    "if __name__ == \"__main__\":\n",
    "    search_term = \"Chris Hedges\"\n",
    "    episodes = search_episodes(search_term)\n",
    "\n",
    "    print(f\"\\n🔍 Results for: '{search_term}'\\n\")\n",
    "    for ep in episodes:\n",
    "        print(f\"- {ep['show_title']}\\n  Summary: {ep['summary']}\\n\")"
   ]
  }
 ],
 "metadata": {
  "kernelspec": {
   "display_name": ".venv",
   "language": "python",
   "name": "python3"
  },
  "language_info": {
   "codemirror_mode": {
    "name": "ipython",
    "version": 3
   },
   "file_extension": ".py",
   "mimetype": "text/x-python",
   "name": "python",
   "nbconvert_exporter": "python",
   "pygments_lexer": "ipython3",
   "version": "3.12.8"
  }
 },
 "nbformat": 4,
 "nbformat_minor": 2
}
