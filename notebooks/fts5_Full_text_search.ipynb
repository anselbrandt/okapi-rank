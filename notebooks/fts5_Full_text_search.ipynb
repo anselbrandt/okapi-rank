{
 "cells": [
  {
   "cell_type": "code",
   "execution_count": 1,
   "metadata": {},
   "outputs": [
    {
     "name": "stdout",
     "output_type": "stream",
     "text": [
      "\n",
      "🔍 Results for: 'Chris Hedges'\n",
      "\n",
      "- Complexity Premia\n",
      "  Summary: Welcome to the Complexity Premia podcast by Coolabah Capital, hosted by Christopher Joye, Chief Investment Officer and Portfolio Manager at Coolabah Capital, and Ying Yi, a Portfolio Management Director at Coolabah Capital. The Complexity Premia podcast strives to deconstruct modern investment problems for wholesale (not retail) participants in capital markets. You can listen on your favourite podcast app, or you can find it on Spotify, Podbean or Apple Podcasts. In this new flash episode of the Complexity Premia podcast, Chris and Ying Yi discuss why Coolabah was extremely bearish heading into April, predicting large equity losses; why the team hedged 15-25% of all its credit risk through to 9 April; why they cut all hedges on this day and went aggressively long, buying over $4bn of bonds thereafter; and what the outlook in this new uncertain world looks like.     This information is suitable for wholesale investors only and has been produced by Coolabah Capital Institutional Investments Pty Ltd ACN 605806059, which holds Australian Financial Services Licence No. 482238 (CCII). The views expressed in this recording represent the personal opinions of the speakers and do not represent the view of any other party. The information does not take into account the particular investment objectives or financial situation of any potential listener. It does not constitute, and should not be relied on as, financial or investment advice or recommendations (expressed or implied) and it should not be used as an invitation to take up any investments or investment services. Whilst we believe that the information discussed in the podcast is correct, no warranty or representation is given to this effect, and listeners should not rely on this information when making any decisions. No responsibility can be accepted by CCII to any end users for any action taken on the basis of this information. Any performance data presented on this site is pre-fees for institutional clients that negotiate custom fee rates, and these solutions are not available to retail investors. No investment decision or activity should be undertaken without first seeking qualified and professional advice. CCII may have a financial interest in any assets discussed during the podcast. Listeners in Australia are encouraged to visit ASIC's MoneySmart website to obtain information regarding financial advice and investments.\n",
      "\n",
      "- History of Philosophy Audio Archive\n",
      "  Summary: Come join my Patreon! https://patreon.com/c/HemlockPatreon Summary: In this powerful 2014 speech, journalist and author Chris Hedges dissects what he terms the \"psychosis of permanent war\" that grips the United States. He traces its origins to the anti-communist fervor following World War I, arguing that the Wilson administration pioneered modern mass propaganda techniques, manipulating public emotion rather than appealing to reason. Hedges contends that this permanent state of war, fueled by corporate interests and sustained by both political parties, has destroyed American democracy, corrupted core values like thrift and community, and replaced them with hedonism and the cult of the self. Drawing heavily on his experiences as a war correspondent in the Middle East, Latin America, and the Balkans, Hedges details the devastating human cost and destructive power of modern industrial warfare, critiquing US foreign policy interventions in Iraq, Afghanistan, Syria, and the consequences of Israeli actions in Gaza. He discusses how these actions often create more enemies than they defeat (blowback) and lead to the erosion of civil liberties at home through mass surveillance and laws undermining due process. Referencing thinkers like Dwight Macdonald and Sheldon Wolin (specifically the concept of \"inverted totalitarianism\"), Hedges argues that corporate power has effectively seized control, leaving mass civil disobedience as potentially the only recourse for citizens to reclaim agency. The speech also includes a Q&A segment touching on climate change activism, the limitations of electoral politics (including the Green Party), and the nature of resistance against entrenched power. Keywords: Chris Hedges, Permanent War, War Psychosis, US Foreign Policy, Militarism, Propaganda, Anti-Communism, Corporate Power, Inverted Totalitarianism, Democracy, Civil Liberties, Iraq War, Afghanistan War, Middle East, Gaza, Syria, Israel, War Crimes, Mass Surveillance, Civil Disobedience, Media Critique, Political Philosophy, Sheldon Wolin, Dwight Macdonald, Woodrow Wilson, Sigmund Freud, Noam Chomsky, Climate Change, Occupy Wall Street. People Mentioned: Dwight MacdonaldWoodrow WilsonGustave Le BonTrotter (Wilfred Trotter)Sigmund FreudKarl MarxVondaDick CheneySheldon WolinGeorge OrwellEdward GibbonBill McKibbenBernie SandersNaomi KleinSawant (Kshama Sawant)Michael BloombergBill De BlasioJohn Ralston SaulSimone WeilCadmus (mythological figure)Randolph BourneTocqueville (Alexis de Tocqueville)Clausewitz (Carl von Clausewitz)Saddam HusseinOsama bin LadenAbu Musab al-ZarqawiBashar al-AssadHannah ArendtVaclav HavelLenin (Vladimir Lenin)Ralph NaderJill SteinMario Vargas LlosaLarry SummersShakespeare (William Shakespeare)King Lear (character)Goneril (character)Regan (character)\n",
      "\n",
      "- The Chris Hedges Report\n",
      "  Summary: On this episode of The Chris Hedges Report, Chris Hedges speaks with filmmaker Alex Gibney about Gibney’s documentary series The Dark Money Game, which examines the “labyrinth of mirrors” that facilitates untraceable corruption through the American political system. Although both the Democratic and Republican parties have served the interests of the billionaire class since well before the Citizens United v. Federal Election Commission Supreme Court ruling in 2010, the removal of restrictions on political spending created a system by which corporations could route millions of dollars in bribes through an intricate, opaque network of nonprofit organizations and super PACs.    FirstEnergy, a failing Ohio nuclear power operator, exploited this network to pay $60 million to former Ohio State Representative Larry Householder, in exchange for his support of a “Clean Energy” bill that would award FirstEnergy $1.3 billion in benefits. Ohio Confidential, the first documentary in Gibney’s series, follows the affair, which was subject to an FBI investigation, and which offers a view into mechanisms of illegitimate influence which are rarely visible to the public. Nonetheless, Hedges notes, the FirstEnergy story is likely a “microcosm of the whole system.”    The second film in the series, Wealth of the Wicked, portrays the contradictory but effective partnership between the anti-abortion Christian right and the billionaire class, which has used a variety of sordid tactics to sway the Supreme Court towards conservative and pro-corporate decisions. For example, Gibney describes how wealthy donors would “engage in a kind of romance” with justices, offering expensive gifts and pursuing “friendships that ultimately would have the effect of turning their perspectives...”   The faster the dark money flows through the American political system, the greater the power of the billionaire class to oppose regulations and steal wealth. “It's a series of interlocking favors,” Gibney observes, “but all these interlocking favors, which—let's face it—are traditional tools of the political system… are made possible and made far more corrupt by the application of tens of millions of dollars, which to the public is completely invisible.”\n",
      "\n",
      "- The Chris Hedges Report\n",
      "  Summary: Richard Barnard, Sarah Wilkinson, Asa Winstanley and Richard Medhurst. These are some of the canaries in the coal mine for what is to come in the West as the region’s elite quickly becomes Israel’s international police. Medhurst joins host Chris Hedges on this episode of The Chris Hedges Report to talk about his own experiences in the United Kingdom and Austria, where federal agents and police arrested him and searched his home under draconian counterterrorism laws. “I was just trying to tell the truth as best as I could with the facts that we had at that time and that's it. And I think they're trying to make an example out of me, definitely,” Medhurst tells Hedges. Medhurst points to Schedule 7 of the Terrorism Act 2000 in the UK as one of the broad laws being used to silence people like him. “If they really want to, they can charge you for just saying a simple fact just because the fact is uncomfortable to the government or perhaps they can twist it into saying you're glorifying a group but it's not true,” he explains. For Medhurst, the UK pinned Schedule 12(1A) on him, which he explains “has never been used before, and escalated it straight to an arrest.” They then took his “fingerprints, [his] DNA, [and] they put [him] in jail for 24 hours.” Despite his accurate reporting, Medhurst says that the validity of what one says does not matter when it conflicts with the establishment line. “You're not glorifying anyone. You're just stating a fact, but they can still charge you. That's what's so dangerous about this law,” he said. Austrian security service agents still possess most of Medhurst’s journalistic tools. There is still no clear time table as to when he will get his tools back. As Medhurst explained: “It wasn't just my phone and my laptop, which I also use for work, which are my work tools, but …you know, hard drive adapters, things that don't even have data on them, analog microphones. Why would you do that to someone unless you're trying to make a point that you don't want them to continue their work?”\n",
      "\n"
     ]
    }
   ],
   "source": [
    "import sqlite3\n",
    "\n",
    "\n",
    "def search_episodes(term):\n",
    "    conn = sqlite3.connect(\"../data/podcasts.db\")\n",
    "    conn.row_factory = sqlite3.Row\n",
    "    cursor = conn.cursor()\n",
    "\n",
    "    conn.commit()\n",
    "\n",
    "    query = \"\"\"\n",
    "    SELECT episode.*\n",
    "    FROM episode_fts\n",
    "    JOIN episode ON episode_fts.rowid = episode.id\n",
    "    WHERE episode_fts MATCH ?;\n",
    "    \"\"\"\n",
    "    cursor.execute(query, (term,))\n",
    "    results = cursor.fetchall()\n",
    "    conn.close()\n",
    "    return results\n",
    "\n",
    "\n",
    "if __name__ == \"__main__\":\n",
    "    search_term = \"Chris Hedges\"\n",
    "    episodes = search_episodes(search_term)\n",
    "\n",
    "    print(f\"\\n🔍 Results for: '{search_term}'\\n\")\n",
    "    for ep in episodes:\n",
    "        print(f\"- {ep['show_title']}\\n  Summary: {ep['summary']}\\n\")"
   ]
  }
 ],
 "metadata": {
  "kernelspec": {
   "display_name": ".venv",
   "language": "python",
   "name": "python3"
  },
  "language_info": {
   "codemirror_mode": {
    "name": "ipython",
    "version": 3
   },
   "file_extension": ".py",
   "mimetype": "text/x-python",
   "name": "python",
   "nbconvert_exporter": "python",
   "pygments_lexer": "ipython3",
   "version": "3.12.8"
  }
 },
 "nbformat": 4,
 "nbformat_minor": 2
}
