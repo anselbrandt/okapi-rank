{
 "cells": [
  {
   "cell_type": "code",
   "execution_count": 1,
   "id": "2dd1e999",
   "metadata": {},
   "outputs": [
    {
     "name": "stdout",
     "output_type": "stream",
     "text": [
      "https://rss.art19.com/judging-freedom\n",
      "https://rss.art19.com/daniel-davis-deep-dive\n",
      "https://anchor.fm/s/82a56a90/podcast/rss\n",
      "https://feeds.libsyn.com/576240/rss\n",
      "https://www.spreaker.com/show/3131277/episodes/feed\n",
      "https://geopoliticsandempire.com/feed/podcast/\n",
      "https://access.acast.com/rss/632480d5cfe20700134418f3\n",
      "https://feeds.megaphone.fm/scotthortonshow\n",
      "https://thejimmydoreshow.libsyn.com/rss\n",
      "https://feeds.buzzsprout.com/1648477.rss\n",
      "https://kunstlercast.libsyn.com/rss\n",
      "https://coffeeandamike.libsyn.com/rss\n",
      "https://feed.podbean.com/vivabarnes/feed.xml\n",
      "https://feeds.soundcloud.com/users/soundcloud:users:321045635/sounds.rss\n",
      "https://feeds.redcircle.com/7090379b-af2f-4972-a14d-b4041f474ee4\n"
     ]
    }
   ],
   "source": [
    "from pathlib import Path\n",
    "import json\n",
    "\n",
    "id = \"1442883993\"\n",
    "\n",
    "working_dir = Path(\"../working\")\n",
    "input_file = working_dir / f\"{id}.json\"\n",
    "\n",
    "with open(input_file, \"r\", encoding=\"utf-8\") as f:\n",
    "    data = json.load(f)\n",
    "\n",
    "recommended = next(\n",
    "    (entry for entry in data if entry.get(\"contentType\") == \"largeLockup\"), {}\n",
    ")\n",
    "\n",
    "shows = recommended.get(\"items\")\n",
    "\n",
    "if shows:\n",
    "    for show in shows:\n",
    "        id = show.get(\"adamId\")\n",
    "        category = show.get(\"title\")\n",
    "        tags = show.get(\"genreNames\")\n",
    "        contextAction = show.get(\"contextAction\")\n",
    "        podcastOffer = contextAction.get(\"podcastOffer\")\n",
    "        title = podcastOffer.get(\"title\")\n",
    "        url = podcastOffer.get(\"storeUrl\")\n",
    "        feedUrl = podcastOffer.get(\"feedUrl\")\n",
    "        print(feedUrl)"
   ]
  }
 ],
 "metadata": {
  "kernelspec": {
   "display_name": ".venv",
   "language": "python",
   "name": "python3"
  },
  "language_info": {
   "codemirror_mode": {
    "name": "ipython",
    "version": 3
   },
   "file_extension": ".py",
   "mimetype": "text/x-python",
   "name": "python",
   "nbconvert_exporter": "python",
   "pygments_lexer": "ipython3",
   "version": "3.12.8"
  }
 },
 "nbformat": 4,
 "nbformat_minor": 5
}
