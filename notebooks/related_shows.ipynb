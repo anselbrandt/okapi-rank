{
 "cells": [
  {
   "cell_type": "code",
   "execution_count": 7,
   "id": "2dd1e999",
   "metadata": {},
   "outputs": [
    {
     "name": "stdout",
     "output_type": "stream",
     "text": [
      "https://api.substack.com/feed/podcast/3588957.rss\n",
      "https://api.substack.com/feed/podcast/500230.rss\n",
      "https://feeds.megaphone.fm/QLTUL2757454477\n",
      "https://anchor.fm/s/17be2384/podcast/rss\n",
      "https://api.substack.com/feed/podcast/259044.rss\n",
      "https://api.substack.com/feed/podcast/944235.rss\n",
      "https://api.substack.com/feed/podcast/815642.rss\n",
      "https://www.omnycontent.com/d/playlist/d3d56d8d-11c9-411a-aade-af8f001be4a7/5d298a1b-6007-4be2-8c62-afb101705299/895b764f-20ad-48a4-8853-afb1017052c8/podcast.rss\n",
      "https://feeds.megaphone.fm/RSV2347142881\n",
      "https://api.substack.com/feed/podcast/61371.rss\n",
      "https://feeds.libsyn.com/563655/rss\n",
      "https://anchor.fm/s/8490860/podcast/rss\n",
      "https://anchor.fm/s/10036d9d0/podcast/rss\n",
      "https://feeds.megaphone.fm/thegoodfight\n",
      "https://feeds.megaphone.fm/RUNMED8938522838\n"
     ]
    }
   ],
   "source": [
    "from pathlib import Path\n",
    "import json\n",
    "\n",
    "id = \"1442883993\"\n",
    "\n",
    "working_dir = Path(\"../working\")\n",
    "input_file = working_dir / \"the-unspeakable-podcast-id1524832743.json\"\n",
    "\n",
    "\n",
    "with open(input_file, \"r\", encoding=\"utf-8\") as f:\n",
    "    raw_json = json.load(f)\n",
    "\n",
    "data = raw_json[0].get(\"data\", {}).get(\"shelves\", [])\n",
    "\n",
    "recommended = next(\n",
    "    (entry for entry in data if entry.get(\"contentType\") == \"largeLockup\"), {}\n",
    ")\n",
    "\n",
    "shows = recommended.get(\"items\")\n",
    "\n",
    "if shows:\n",
    "    for show in shows:\n",
    "        id = show.get(\"adamId\")\n",
    "        category = show.get(\"title\")\n",
    "        tags = show.get(\"genreNames\")\n",
    "        contextAction = show.get(\"contextAction\")\n",
    "        podcastOffer = contextAction.get(\"podcastOffer\")\n",
    "        title = podcastOffer.get(\"title\")\n",
    "        url = podcastOffer.get(\"storeUrl\")\n",
    "        feedUrl = podcastOffer.get(\"feedUrl\")\n",
    "        print(feedUrl)"
   ]
  }
 ],
 "metadata": {
  "kernelspec": {
   "display_name": ".venv",
   "language": "python",
   "name": "python3"
  },
  "language_info": {
   "codemirror_mode": {
    "name": "ipython",
    "version": 3
   },
   "file_extension": ".py",
   "mimetype": "text/x-python",
   "name": "python",
   "nbconvert_exporter": "python",
   "pygments_lexer": "ipython3",
   "version": "3.12.8"
  }
 },
 "nbformat": 4,
 "nbformat_minor": 5
}
