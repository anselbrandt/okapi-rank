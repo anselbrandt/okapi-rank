{
 "cells": [
  {
   "cell_type": "code",
   "execution_count": 1,
   "metadata": {},
   "outputs": [
    {
     "name": "stdout",
     "output_type": "stream",
     "text": [
      "Subcategory          Podcast Name                                            Rank Score\n",
      "------------------------------------------------------------------------------------------\n",
      "Self-Improvement     The Mel Robbins Podcast                                   180.5408\n",
      "History              The Rest Is History                                       177.1078\n",
      "Comedy               The Joe Rogan Experience                                  162.0349\n",
      "Business             The Diary Of A CEO with Steven Bartlett                   152.0828\n",
      "Daily News           The Daily                                                 132.7031\n",
      "Mental Health        On Purpose with Jay Shetty                                125.2840\n",
      "TV & Film            The Rest Is Entertainment                                 102.8313\n",
      "Technology           All-In with Chamath, Jason, Sacks & Friedberg              88.8964\n",
      "Technology           Acquired                                                   85.9542\n",
      "Stories for Kids     Greeking Out from National Geographic Kids                 83.0345\n",
      "Drama                Sherlock Holmes Short Stories                              76.3413\n",
      "Design               99% Invisible                                              74.7606\n",
      "Natural Sciences     Radiolab                                                   67.0162\n",
      "Science              Curious Cases                                              65.7928\n",
      "Science              Ologies with Alie Ward                                     63.0064\n",
      "Government           Fiasco                                                     60.6230\n",
      "Buddhism             Tara Brach                                                 60.5589\n",
      "True Crime           Mushroom Case Daily                                        59.6503\n",
      "Christianity         Timothy Keller Sermons Podcast by Gospel in Life           59.4366\n",
      "Fashion & Beauty     Style-ish                                                  58.8666\n",
      "Technology           Lex Fridman Podcast                                        57.8948\n",
      "Health & Fitness     Huberman Lab                                               57.5492\n",
      "Comedy               Good Hang with Amy Poehler                                 56.2903\n",
      "True Crime           Deep Cover                                                 54.2134\n",
      "Parenting            Good Inside with Dr. Becky                                 53.2798\n"
     ]
    }
   ],
   "source": [
    "import sqlite3\n",
    "\n",
    "conn = sqlite3.connect(\"../data/podcasts.db\")\n",
    "cursor = conn.cursor()\n",
    "\n",
    "cursor.execute(\n",
    "    \"\"\"\n",
    "    SELECT p.name, p.subcategory, s.rank_score\n",
    "    FROM podcast p\n",
    "    JOIN (\n",
    "        SELECT podcast_id, MAX(date) AS latest_date\n",
    "        FROM score\n",
    "        GROUP BY podcast_id\n",
    "    ) latest_scores\n",
    "    ON p.id = latest_scores.podcast_id\n",
    "    JOIN score s\n",
    "    ON s.podcast_id = latest_scores.podcast_id AND s.date = latest_scores.latest_date\n",
    "    ORDER BY s.rank_score DESC\n",
    "    LIMIT 25;\n",
    "    \"\"\"\n",
    ")\n",
    "\n",
    "top_podcasts = cursor.fetchall()\n",
    "\n",
    "print(f\"{'Subcategory':<20} {'Podcast Name':<55} {'Rank Score':>10}\")\n",
    "print(\"-\" * 90)\n",
    "\n",
    "for name, subcategory, score in top_podcasts:\n",
    "    print(f\"{subcategory:<20} {name:<55} {score:>10.4f}\")\n",
    "\n",
    "conn.close()"
   ]
  }
 ],
 "metadata": {
  "kernelspec": {
   "display_name": ".venv",
   "language": "python",
   "name": "python3"
  },
  "language_info": {
   "codemirror_mode": {
    "name": "ipython",
    "version": 3
   },
   "file_extension": ".py",
   "mimetype": "text/x-python",
   "name": "python",
   "nbconvert_exporter": "python",
   "pygments_lexer": "ipython3",
   "version": "3.12.8"
  }
 },
 "nbformat": 4,
 "nbformat_minor": 2
}
