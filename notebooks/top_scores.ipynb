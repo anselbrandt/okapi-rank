{
 "cells": [
  {
   "cell_type": "code",
   "execution_count": 1,
   "metadata": {},
   "outputs": [
    {
     "name": "stdout",
     "output_type": "stream",
     "text": [
      "Subcategory          Podcast Name                                            Rank Score\n",
      "------------------------------------------------------------------------------------------\n",
      "Self-Improvement     The Mel Robbins Podcast                                  2529.5241\n",
      "History              The Rest Is History                                      2299.1773\n",
      "Business             The Diary Of A CEO with Steven Bartlett                  1781.3626\n",
      "Christianity         The Bible in a Year (with Fr. Mike Schmitz)              1734.8775\n",
      "Technology           Acquired                                                 1505.0979\n",
      "Mental Health        On Purpose with Jay Shetty                               1270.0278\n",
      "Comedy               The Joe Rogan Experience                                 1253.9777\n",
      "Comedy               Good Hang with Amy Poehler                               1196.1069\n",
      "Daily News           The Daily                                                1190.1862\n",
      "Technology           All-In with Chamath, Jason, Sacks & Friedberg            1185.6169\n",
      "Drama                Sherlock Holmes Short Stories                            1119.9348\n",
      "TV & Film            The Rest Is Entertainment                                1016.6671\n",
      "Self-Improvement     IMO with Michelle Obama and Craig Robinson                933.4799\n",
      "Social Sciences      Hidden Brain                                              912.6590\n",
      "Video Games          Giant Bombcast                                            897.5393\n",
      "Parenting            Good Inside with Dr. Becky                                861.4298\n",
      "Science              Ologies with Alie Ward                                    848.2910\n",
      "Government           Fiasco                                                    827.9605\n",
      "Mental Health        The School of Greatness                                   824.4260\n",
      "Health & Fitness     Huberman Lab                                              817.2350\n",
      "Design               99% Invisible                                             738.5468\n",
      "Science              Curious Cases                                             706.5458\n",
      "TV & Film            Are You A Charlotte?                                      670.5875\n",
      "Technology           Lex Fridman Podcast                                       653.9425\n",
      "Entertainment News   Diddy On Trial                                            628.1126\n"
     ]
    }
   ],
   "source": [
    "import sqlite3\n",
    "\n",
    "conn = sqlite3.connect(\"../data/podcasts.db\")\n",
    "cursor = conn.cursor()\n",
    "\n",
    "cursor.execute(\n",
    "    \"\"\"\n",
    "    SELECT p.name, p.subcategory, s.rank_score\n",
    "    FROM podcast p\n",
    "    JOIN (\n",
    "        SELECT podcast_id, MAX(date) AS latest_date\n",
    "        FROM score\n",
    "        GROUP BY podcast_id\n",
    "    ) latest_scores\n",
    "    ON p.id = latest_scores.podcast_id\n",
    "    JOIN score s\n",
    "    ON s.podcast_id = latest_scores.podcast_id AND s.date = latest_scores.latest_date\n",
    "    ORDER BY s.rank_score DESC\n",
    "    LIMIT 25;\n",
    "    \"\"\"\n",
    ")\n",
    "\n",
    "top_podcasts = cursor.fetchall()\n",
    "\n",
    "print(f\"{'Subcategory':<20} {'Podcast Name':<55} {'Rank Score':>10}\")\n",
    "print(\"-\" * 90)\n",
    "\n",
    "for name, subcategory, score in top_podcasts:\n",
    "    print(f\"{subcategory:<20} {name:<55} {score:>10.4f}\")\n",
    "\n",
    "conn.close()"
   ]
  }
 ],
 "metadata": {
  "kernelspec": {
   "display_name": ".venv",
   "language": "python",
   "name": "python3"
  },
  "language_info": {
   "codemirror_mode": {
    "name": "ipython",
    "version": 3
   },
   "file_extension": ".py",
   "mimetype": "text/x-python",
   "name": "python",
   "nbconvert_exporter": "python",
   "pygments_lexer": "ipython3",
   "version": "3.12.8"
  }
 },
 "nbformat": 4,
 "nbformat_minor": 2
}
