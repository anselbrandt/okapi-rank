{
 "cells": [
  {
   "cell_type": "code",
   "execution_count": 1,
   "metadata": {},
   "outputs": [
    {
     "name": "stdout",
     "output_type": "stream",
     "text": [
      "18211\n"
     ]
    }
   ],
   "source": [
    "from datetime import datetime\n",
    "from pathlib import Path\n",
    "import re\n",
    "import sqlite3\n",
    "\n",
    "\n",
    "def extract_show_id(url):\n",
    "    match = re.search(r\"/id(\\d+)\", url)\n",
    "    return match.group(1) if match else None\n",
    "\n",
    "\n",
    "def scrape_shows(db_path: Path, retry=False):\n",
    "    status = \"error\" if retry else \"pending\"\n",
    "    scraped_at = datetime.now().isoformat()\n",
    "\n",
    "    conn = sqlite3.connect(db_path)\n",
    "    cursor = conn.cursor()\n",
    "\n",
    "    cursor.execute(\n",
    "        \"\"\"\n",
    "        SELECT podcast.id, podcast.name, podcast.category, podcast.url, download.status\n",
    "        FROM podcast\n",
    "        JOIN download ON podcast.id = download.id\n",
    "        LEFT JOIN frequency ON podcast.id = frequency.podcast_id\n",
    "        WHERE download.status = ?\n",
    "        OR (download.status = 'active' AND (frequency.next_scrape IS NULL OR frequency.next_scrape <= ?))\n",
    "        \"\"\",\n",
    "        (status, scraped_at),\n",
    "    )\n",
    "\n",
    "    results = cursor.fetchall()\n",
    "\n",
    "    total_podcasts = len(results)\n",
    "    print(total_podcasts)\n",
    "\n",
    "    conn.close()\n",
    "\n",
    "\n",
    "if __name__ == \"__main__\":\n",
    "    scrape_shows(db_path=Path(\"../data/podcasts.db\"), retry=False)"
   ]
  }
 ],
 "metadata": {
  "kernelspec": {
   "display_name": ".venv",
   "language": "python",
   "name": "python3"
  },
  "language_info": {
   "codemirror_mode": {
    "name": "ipython",
    "version": 3
   },
   "file_extension": ".py",
   "mimetype": "text/x-python",
   "name": "python",
   "nbconvert_exporter": "python",
   "pygments_lexer": "ipython3",
   "version": "3.12.8"
  }
 },
 "nbformat": 4,
 "nbformat_minor": 2
}
