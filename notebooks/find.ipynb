{
 "cells": [
  {
   "cell_type": "code",
   "execution_count": 9,
   "metadata": {},
   "outputs": [
    {
     "name": "stdout",
     "output_type": "stream",
     "text": [
      "\n",
      "Podcast: The Duran Podcast\n",
      "Show ID: 1442883993\n",
      "Category: news\n",
      "Country Rankings:\n",
      "  gb: #158\n",
      "  nz: #105\n",
      "  ca: #178\n",
      "  au: #144\n",
      "Overall Score: 0.5319\n"
     ]
    }
   ],
   "source": [
    "import sqlite3\n",
    "from pathlib import Path\n",
    "\n",
    "shows_dir = Path(\"../data/shows\")\n",
    "\n",
    "\n",
    "def get_podcast_stats_by_name(partial_name):\n",
    "    conn = sqlite3.connect(\"../data/podcasts.db\")\n",
    "    cursor = conn.cursor()\n",
    "\n",
    "    query = \"\"\"\n",
    "        SELECT\n",
    "            p.name,\n",
    "            p.show_id,\n",
    "            p.category,\n",
    "            r.country,\n",
    "            r.rank,\n",
    "            s.rank_score\n",
    "        FROM podcast p\n",
    "        LEFT JOIN ranking r ON p.id = r.podcast_id\n",
    "        LEFT JOIN score s ON p.id = s.podcast_id\n",
    "        WHERE p.name LIKE ?\n",
    "        ORDER BY r.chart_date DESC, s.date DESC;\n",
    "    \"\"\"\n",
    "    podcast_data = {}\n",
    "    try:\n",
    "        search_term = f\"%{partial_name}%\"\n",
    "        cursor.execute(query, (search_term,))\n",
    "        rows = cursor.fetchall()\n",
    "\n",
    "        if not rows:\n",
    "            print(\"No podcast found matching:\", partial_name)\n",
    "            return\n",
    "\n",
    "        for name, show_id, category, country, rank, rank_score in rows:\n",
    "            if name not in podcast_data:\n",
    "                podcast_data[name] = {\n",
    "                    \"show_id\": show_id,\n",
    "                    \"category\": category,\n",
    "                    \"rankings\": {},\n",
    "                    \"latest_score\": None,\n",
    "                }\n",
    "\n",
    "            if country and rank is not None:\n",
    "                if country not in podcast_data[name][\"rankings\"]:\n",
    "                    podcast_data[name][\"rankings\"][country] = rank\n",
    "\n",
    "            if rank_score is not None and podcast_data[name][\"latest_score\"] is None:\n",
    "                podcast_data[name][\"latest_score\"] = rank_score\n",
    "\n",
    "    finally:\n",
    "        conn.close()\n",
    "        return podcast_data\n",
    "\n",
    "\n",
    "podcast_data = get_podcast_stats_by_name(\"The Duran\")\n",
    "if podcast_data:\n",
    "    for name, data in podcast_data.items():\n",
    "        print(f\"\\nPodcast: {name}\")\n",
    "        print(f\"Show ID: {data['show_id']}\")\n",
    "        print(f\"Category: {data['category']}\")\n",
    "        print(\"Country Rankings:\")\n",
    "        for country, rank in data[\"rankings\"].items():\n",
    "            print(f\"  {country}: #{rank}\")\n",
    "        print(f\"Overall Score: {data['latest_score']}\")"
   ]
  }
 ],
 "metadata": {
  "kernelspec": {
   "display_name": ".venv",
   "language": "python",
   "name": "python3"
  },
  "language_info": {
   "codemirror_mode": {
    "name": "ipython",
    "version": 3
   },
   "file_extension": ".py",
   "mimetype": "text/x-python",
   "name": "python",
   "nbconvert_exporter": "python",
   "pygments_lexer": "ipython3",
   "version": "3.12.8"
  }
 },
 "nbformat": 4,
 "nbformat_minor": 2
}
