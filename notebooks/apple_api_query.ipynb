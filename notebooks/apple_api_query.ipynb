{
 "cells": [
  {
   "cell_type": "code",
   "execution_count": 1,
   "id": "f76004e5",
   "metadata": {},
   "outputs": [
    {
     "name": "stdout",
     "output_type": "stream",
     "text": [
      "The Unspeakable Podcast — Meghan Daum\n",
      "https://podcasts.apple.com/us/podcast/the-unspeakable-podcast/id1524832743?uo=4\n",
      "\n",
      "Unspeakable: A True Crime Podcast By Kelly Jennings — Kelly Jennings\n",
      "https://podcasts.apple.com/us/podcast/unspeakable-a-true-crime-podcast-by-kelly-jennings/id1651928508?uo=4\n",
      "\n",
      "Unspeakable Crime: The Killing of Jessica Chambers — Oxygen\n",
      "https://podcasts.apple.com/us/podcast/unspeakable-crime-the-killing-of-jessica-chambers/id1435778021?uo=4\n",
      "\n",
      "Unspeakable — Victoria Police\n",
      "https://podcasts.apple.com/us/podcast/unspeakable/id1278241460?uo=4\n",
      "\n",
      "Unspeakable Joy - Audio — Tyler Gaulden\n",
      "https://podcasts.apple.com/us/podcast/unspeakable-joy-audio/id736767464?uo=4\n",
      "\n",
      "Unspeakable: A True Crime Podcast — Reese Geoffrion\n",
      "https://podcasts.apple.com/us/podcast/unspeakable-a-true-crime-podcast/id1573096813?uo=4\n",
      "\n"
     ]
    }
   ],
   "source": [
    "import httpx\n",
    "import json\n",
    "from pathlib import Path\n",
    "\n",
    "\n",
    "def search_podcast(podcast_name: str, country: str = \"US\"):\n",
    "    base_url = \"https://itunes.apple.com/search\"\n",
    "    params = {\n",
    "        \"term\": podcast_name,\n",
    "        \"media\": \"podcast\",\n",
    "        \"country\": country,\n",
    "        \"limit\": 5,  # optional: limit results\n",
    "    }\n",
    "\n",
    "    response = httpx.get(base_url, params=params)\n",
    "    response.raise_for_status()\n",
    "\n",
    "    data = response.json()\n",
    "    return data\n",
    "\n",
    "\n",
    "# Example usage\n",
    "if __name__ == \"__main__\":\n",
    "    data = search_podcast(\"The Unspeakable Podcast\")\n",
    "\n",
    "    # Save full API response to file\n",
    "    output_path = Path(\"../working/api_results.json\")\n",
    "    output_path.parent.mkdir(parents=True, exist_ok=True)\n",
    "    with output_path.open(\"w\", encoding=\"utf-8\") as f:\n",
    "        json.dump(data, f, ensure_ascii=False, indent=2)\n",
    "\n",
    "    # Print summary of results\n",
    "    for podcast in data.get(\"results\", []):\n",
    "        print(f\"{podcast['collectionName']} — {podcast['artistName']}\")\n",
    "        print(podcast[\"collectionViewUrl\"])\n",
    "        print()"
   ]
  }
 ],
 "metadata": {
  "kernelspec": {
   "display_name": ".venv",
   "language": "python",
   "name": "python3"
  },
  "language_info": {
   "codemirror_mode": {
    "name": "ipython",
    "version": 3
   },
   "file_extension": ".py",
   "mimetype": "text/x-python",
   "name": "python",
   "nbconvert_exporter": "python",
   "pygments_lexer": "ipython3",
   "version": "3.12.8"
  }
 },
 "nbformat": 4,
 "nbformat_minor": 5
}
