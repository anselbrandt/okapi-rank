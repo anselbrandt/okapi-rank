{
 "cells": [
  {
   "cell_type": "code",
   "execution_count": 1,
   "metadata": {},
   "outputs": [
    {
     "name": "stdout",
     "output_type": "stream",
     "text": [
      "6346\n"
     ]
    }
   ],
   "source": [
    "from datetime import datetime, timedelta, timezone\n",
    "from pathlib import Path\n",
    "import json\n",
    "\n",
    "sections_dir = Path(\"../frontend/public/sections\")\n",
    "\n",
    "all_episodes = []\n",
    "for file in sections_dir.glob(\"*.json\"):\n",
    "    with open(file, \"r\", encoding=\"utf-8\") as f:\n",
    "        episodes = json.load(f)\n",
    "        all_episodes.extend(episodes)\n",
    "\n",
    "\n",
    "# Deduplicate by episode URL\n",
    "seen_urls = set()\n",
    "unique_episodes = []\n",
    "for ep in all_episodes:\n",
    "    url = ep.get(\"url\")\n",
    "    if url and url not in seen_urls:\n",
    "        seen_urls.add(url)\n",
    "        unique_episodes.append(ep)\n",
    "\n",
    "print(len(unique_episodes))"
   ]
  }
 ],
 "metadata": {
  "kernelspec": {
   "display_name": ".venv",
   "language": "python",
   "name": "python3"
  },
  "language_info": {
   "codemirror_mode": {
    "name": "ipython",
    "version": 3
   },
   "file_extension": ".py",
   "mimetype": "text/x-python",
   "name": "python",
   "nbconvert_exporter": "python",
   "pygments_lexer": "ipython3",
   "version": "3.12.8"
  }
 },
 "nbformat": 4,
 "nbformat_minor": 2
}
