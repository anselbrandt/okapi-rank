{
 "cells": [
  {
   "cell_type": "code",
   "execution_count": 1,
   "metadata": {},
   "outputs": [
    {
     "name": "stdout",
     "output_type": "stream",
     "text": [
      "Hourly: 4060\n",
      "Daily:  4941\n",
      "Weekly: 3771\n",
      "Total:  12772\n"
     ]
    }
   ],
   "source": [
    "import sqlite3\n",
    "\n",
    "conn = sqlite3.connect(\"../data/podcasts.db\")\n",
    "cursor = conn.cursor()\n",
    "\n",
    "query = \"\"\"\n",
    "SELECT frequency, COUNT(*) AS count\n",
    "FROM frequency\n",
    "WHERE frequency IN ('hourly', 'daily', 'weekly')\n",
    "GROUP BY frequency;\n",
    "\"\"\"\n",
    "\n",
    "cursor.execute(query)\n",
    "results = cursor.fetchall()\n",
    "\n",
    "counts = {\"hourly\": 0, \"daily\": 0, \"weekly\": 0}\n",
    "\n",
    "for frequency, count in results:\n",
    "    counts[frequency] = count\n",
    "\n",
    "total = sum(counts.values())\n",
    "\n",
    "print(f\"Hourly: {counts['hourly']}\")\n",
    "print(f\"Daily:  {counts['daily']}\")\n",
    "print(f\"Weekly: {counts['weekly']}\")\n",
    "print(f\"Total:  {total}\")\n",
    "\n",
    "cursor.close()\n",
    "conn.close()"
   ]
  },
  {
   "cell_type": "code",
   "execution_count": 2,
   "metadata": {},
   "outputs": [
    {
     "name": "stdout",
     "output_type": "stream",
     "text": [
      "news\n",
      "society_and_culture\n",
      "government \n",
      "\n",
      "  Hourly:   663\n",
      "  Daily:    871\n",
      "  Weekly:   460\n",
      "  Total:    1994\n"
     ]
    }
   ],
   "source": [
    "import sqlite3\n",
    "\n",
    "conn = sqlite3.connect(\"../data/podcasts.db\")\n",
    "cursor = conn.cursor()\n",
    "\n",
    "categories = [\"news\", \"society_and_culture\", \"government\"]\n",
    "\n",
    "query = \"\"\"\n",
    "SELECT f.frequency, COUNT(*) AS count\n",
    "FROM frequency f\n",
    "JOIN podcast p ON f.podcast_id = p.id\n",
    "WHERE f.frequency IN ('hourly', 'daily', 'weekly')\n",
    "  AND p.category = ?\n",
    "GROUP BY f.frequency;\n",
    "\"\"\"\n",
    "\n",
    "totals = {\"hourly\": 0, \"daily\": 0, \"weekly\": 0}\n",
    "\n",
    "for category in categories:\n",
    "    cursor.execute(query, (category,))\n",
    "    results = cursor.fetchall()\n",
    "\n",
    "    for frequency, count in results:\n",
    "        totals[frequency] += count\n",
    "\n",
    "combined_total = sum(totals.values())\n",
    "\n",
    "print(\"\\n\".join(categories), \"\\n\")\n",
    "print(f\"  Hourly:   {totals['hourly']}\")\n",
    "print(f\"  Daily:    {totals['daily']}\")\n",
    "print(f\"  Weekly:   {totals['weekly']}\")\n",
    "print(f\"  Total:    {combined_total}\")\n",
    "\n",
    "cursor.close()\n",
    "conn.close()"
   ]
  }
 ],
 "metadata": {
  "kernelspec": {
   "display_name": ".venv",
   "language": "python",
   "name": "python3"
  },
  "language_info": {
   "codemirror_mode": {
    "name": "ipython",
    "version": 3
   },
   "file_extension": ".py",
   "mimetype": "text/x-python",
   "name": "python",
   "nbconvert_exporter": "python",
   "pygments_lexer": "ipython3",
   "version": "3.12.8"
  }
 },
 "nbformat": 4,
 "nbformat_minor": 2
}
