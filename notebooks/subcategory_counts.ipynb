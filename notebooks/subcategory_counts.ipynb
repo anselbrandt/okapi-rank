{
 "cells": [
  {
   "cell_type": "code",
   "execution_count": 1,
   "metadata": {},
   "outputs": [],
   "source": [
    "import sqlite3\n",
    "import json\n",
    "from collections import defaultdict\n",
    "from pathlib import Path\n",
    "\n",
    "out_dir = Path(\"../working\")\n",
    "out_dir.mkdir(exist_ok=True)\n",
    "\n",
    "conn = sqlite3.connect(\"../data/podcasts.db\")\n",
    "cursor = conn.cursor()\n",
    "\n",
    "cursor.execute(\n",
    "    \"\"\"\n",
    "    SELECT category, subcategory, COUNT(*) as count\n",
    "    FROM podcast\n",
    "    GROUP BY category, subcategory\n",
    "    ORDER BY category, subcategory\n",
    "\"\"\"\n",
    ")\n",
    "\n",
    "category_data = defaultdict(list)\n",
    "for category, subcategory, count in cursor.fetchall():\n",
    "    category_data[category].append([category, subcategory])\n",
    "out_file = out_dir / \"category_summary.json\"\n",
    "with open(out_file, \"w\") as f:\n",
    "    json.dump(category_data, f)\n",
    "\n",
    "conn.close()"
   ]
  }
 ],
 "metadata": {
  "kernelspec": {
   "display_name": ".venv",
   "language": "python",
   "name": "python3"
  },
  "language_info": {
   "codemirror_mode": {
    "name": "ipython",
    "version": 3
   },
   "file_extension": ".py",
   "mimetype": "text/x-python",
   "name": "python",
   "nbconvert_exporter": "python",
   "pygments_lexer": "ipython3",
   "version": "3.12.8"
  }
 },
 "nbformat": 4,
 "nbformat_minor": 2
}
